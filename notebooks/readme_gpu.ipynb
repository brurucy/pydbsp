{
 "cells": [
  {
   "cell_type": "code",
   "execution_count": 1,
   "id": "8482850a-ef13-493c-ad90-c58cf6b6a53d",
   "metadata": {},
   "outputs": [
    {
     "name": "stdout",
     "output_type": "stream",
     "text": [
      "Regular join: [(0, 'kristjan', '38750'), (1, 'mark', '50000'), (2, 'mike', '40000')]\n"
     ]
    }
   ],
   "source": [
    "from typing import List, Tuple, Set, TypeVar\n",
    "\n",
    "def regular_join[K, V1, V2](left: Set[Tuple[K, V1]], right: Set[Tuple[K, V2]]) -> List[Tuple[K, V1, V2]]:\n",
    "    output: List[Tuple[K, V1, V2]] = []\n",
    "    for left_key, left_value in left:\n",
    "        for right_key, right_value in right:\n",
    "            if left_key == right_key:\n",
    "                output.append((left_key, left_value, right_value))\n",
    "\n",
    "    return output\n",
    "\n",
    "employees = {(0, \"kristjan\"), (1, \"mark\"), (2, \"mike\")}\n",
    "salaries = {(2, \"40000\"), (0, \"38750\"), (1, \"50000\")}\n",
    "\n",
    "employees_salaries = regular_join(employees, salaries)\n",
    "print(f\"Regular join: {employees_salaries}\")"
   ]
  },
  {
   "cell_type": "code",
   "execution_count": 2,
   "id": "a1bf2679-1226-43c0-bb86-63d316aaa023",
   "metadata": {},
   "outputs": [
    {
     "name": "stdout",
     "output_type": "stream",
     "text": [
      "ZSet join: {(0, 'kristjan', '38750'): 1, (1, 'mark', '50000'): 1, (2, 'mike', '40000'): 1}\n"
     ]
    }
   ],
   "source": [
    "from pydbsp.zset import ZSet\n",
    "from pydbsp.zset.functions.bilinear import join\n",
    "\n",
    "employees_zset = ZSet({k: 1 for k in employees})\n",
    "salaries_zset = ZSet({k: 1 for k in salaries})\n",
    "employees_salaries_zset = join(\n",
    "    employees_zset,\n",
    "    salaries_zset,\n",
    "    lambda left, right: left[0] == right[0],\n",
    "    lambda left, right: (left[0], left[1], right[1]),\n",
    ")\n",
    "print(f\"ZSet join: {employees_salaries_zset}\")"
   ]
  },
  {
   "cell_type": "code",
   "execution_count": 3,
   "id": "65d5c3ed-d2bb-4e69-b2bb-47ff7ef9f45b",
   "metadata": {},
   "outputs": [
    {
     "name": "stdout",
     "output_type": "stream",
     "text": [
      "ZSet stream join: {(0, 'kristjan', '38750'): 1, (1, 'mark', '50000'): 1, (2, 'mike', '40000'): 1}\n"
     ]
    }
   ],
   "source": [
    "from pydbsp.zset import ZSetAddition\n",
    "from pydbsp.stream import Stream, StreamHandle\n",
    "from pydbsp.stream.operators.linear import Integrate\n",
    "from pydbsp.zset.operators.bilinear import LiftedJoin\n",
    "\n",
    "group = ZSetAddition()\n",
    "employees_stream = Stream(group)\n",
    "employees_stream_handle = StreamHandle(lambda: employees_stream)\n",
    "employees_stream.send(employees_zset)\n",
    "\n",
    "salaries_stream = Stream(group)\n",
    "salaries_stream_handle = StreamHandle(lambda: salaries_stream)\n",
    "salaries_stream.send(salaries_zset)\n",
    "\n",
    "join_cmp = lambda left, right: left[0] == right[0]\n",
    "join_projection = lambda left, right: (left[0], left[1], right[1])\n",
    "\n",
    "integrated_employees = Integrate(employees_stream_handle)\n",
    "integrated_salaries = Integrate(salaries_stream_handle)\n",
    "stream_join = LiftedJoin(\n",
    "    integrated_employees.output_handle(),\n",
    "    integrated_salaries.output_handle(),\n",
    "    join_cmp,\n",
    "    join_projection,\n",
    ")\n",
    "integrated_employees.step()\n",
    "integrated_salaries.step()\n",
    "stream_join.step()\n",
    "print(f\"ZSet stream join: {stream_join.output().latest()}\")"
   ]
  },
  {
   "cell_type": "code",
   "execution_count": 4,
   "id": "10e51955-9825-40a3-a94e-bd160d5d071e",
   "metadata": {},
   "outputs": [
    {
     "name": "stdout",
     "output_type": "stream",
     "text": [
      "Incremental ZSet stream join: {(0, 'kristjan', '38750'): 1, (1, 'mark', '50000'): 1, (2, 'mike', '40000'): 1}\n"
     ]
    }
   ],
   "source": [
    "from pydbsp.stream.operators.bilinear import Incrementalize2\n",
    "\n",
    "incremental_stream_join = Incrementalize2(\n",
    "    employees_stream_handle,\n",
    "    salaries_stream_handle,\n",
    "    lambda left, right: join(left, right, join_cmp, join_projection),\n",
    "    group,\n",
    ")\n",
    "incremental_stream_join.step()\n",
    "print(f\"Incremental ZSet stream join: {incremental_stream_join.output().latest()}\")"
   ]
  },
  {
   "cell_type": "code",
   "execution_count": 5,
   "id": "0eaf6f4f-73f0-4522-bd96-86b99a9dee9c",
   "metadata": {},
   "outputs": [
    {
     "name": "stdout",
     "output_type": "stream",
     "text": [
      "Incremental ZSet stream join update: {(2, 'mike', '40000'): -1}\n"
     ]
    }
   ],
   "source": [
    "employees_stream.send(ZSet({(2, \"mike\"): -1}))\n",
    "incremental_stream_join.step()\n",
    "print(f\"Incremental ZSet stream join update: {incremental_stream_join.output().latest()}\")"
   ]
  },
  {
   "cell_type": "code",
   "execution_count": 6,
   "id": "0952dc63-ccbb-400d-88ea-14532bee7a37",
   "metadata": {},
   "outputs": [
    {
     "name": "stdout",
     "output_type": "stream",
     "text": [
      "Incremental indexed ZSet stream join: {(0, 'kristjan', '38750'): 1, (1, 'mark', '50000'): 1, (2, 'mike', '40000'): 1}\n"
     ]
    }
   ],
   "source": [
    "from pydbsp.indexed_zset.functions.bilinear import join_with_index\n",
    "from pydbsp.indexed_zset.operators.linear import LiftedIndex\n",
    "\n",
    "indexer = lambda x: x[0]\n",
    "index_employees = LiftedIndex(employees_stream_handle, indexer)\n",
    "index_salaries = LiftedIndex(salaries_stream_handle, indexer)\n",
    "indexed_join_projection = lambda key, left, right: (key, left[1], right[1])\n",
    "incremental_sort_merge_join = Incrementalize2(index_employees.output_handle(), index_salaries.output_handle(), lambda l, r: join_with_index(l, r, indexed_join_projection), group)\n",
    "index_employees.step()\n",
    "index_salaries.step()\n",
    "incremental_sort_merge_join.step()\n",
    "print(f\"Incremental indexed ZSet stream join: {incremental_sort_merge_join.output().latest()}\")"
   ]
  },
  {
   "cell_type": "code",
   "execution_count": 7,
   "id": "48fa6bd7-bda2-44c0-985c-e1726681a13d",
   "metadata": {},
   "outputs": [
    {
     "name": "stdout",
     "output_type": "stream",
     "text": [
      "Incremental ZSet stream join update: {(2, 'mike', '40000'): -1}\n"
     ]
    }
   ],
   "source": [
    "index_employees.step()\n",
    "incremental_sort_merge_join.step()\n",
    "print(f\"Incremental ZSet stream join update: {incremental_sort_merge_join.output().latest()}\")"
   ]
  },
  {
   "cell_type": "code",
   "execution_count": 8,
   "id": "66d96c61-f530-42a5-aef4-8e57c424d381",
   "metadata": {},
   "outputs": [],
   "source": [
    "from random import randrange\n",
    "\n",
    "names = (\"kristjan\", \"mark\", \"mike\")\n",
    "max_pay = 100000\n",
    "fake_data = [((i, names[randrange(len(names))] + str(i)), (i, randrange(max_pay))) for i in range(3, 10003)]\n",
    "batch_size = 500\n",
    "fake_data_batches = [fake_data[i : i + batch_size] for i in range(0, len(fake_data), batch_size)]\n",
    "\n",
    "for batch in fake_data_batches:\n",
    "    employees_stream.send(ZSet({employee: 1 for employee, _ in batch}))\n",
    "    salaries_stream.send(ZSet({salary: 1 for _, salary in batch}))\n",
    "\n",
    "steps_to_take = len(fake_data_batches)"
   ]
  },
  {
   "cell_type": "code",
   "execution_count": 9,
   "id": "2dd5c29e-35fd-42cb-8557-b59c471edc09",
   "metadata": {},
   "outputs": [
    {
     "data": {
      "application/vnd.jupyter.widget-view+json": {
       "model_id": "34c15e15632741d1b8f27065943f4824",
       "version_major": 2,
       "version_minor": 0
      },
      "text/plain": [
       "  0%|          | 0/20 [00:00<?, ?it/s]"
      ]
     },
     "metadata": {},
     "output_type": "display_data"
    },
    {
     "name": "stdout",
     "output_type": "stream",
     "text": [
      "Time taken - on demand: 20.124440670013428s\n"
     ]
    }
   ],
   "source": [
    "from tqdm.notebook import tqdm\n",
    "from time import time\n",
    "\n",
    "time_start = time()\n",
    "measurements = []\n",
    "for _ in tqdm(range(steps_to_take)):\n",
    "    local_time = time()\n",
    "    integrated_employees.step()\n",
    "    integrated_salaries.step()\n",
    "    stream_join.step()\n",
    "    measurements.append(time() - local_time)\n",
    "print(f\"Time taken - on demand: {time() - time_start}s\")"
   ]
  },
  {
   "cell_type": "code",
   "execution_count": 10,
   "id": "68e40124-cbe8-4b16-b975-bca373701193",
   "metadata": {},
   "outputs": [
    {
     "data": {
      "application/vnd.jupyter.widget-view+json": {
       "model_id": "b780439177e545d4b0ef7d335daaa7e5",
       "version_major": 2,
       "version_minor": 0
      },
      "text/plain": [
       "  0%|          | 0/20 [00:00<?, ?it/s]"
      ]
     },
     "metadata": {},
     "output_type": "display_data"
    },
    {
     "name": "stdout",
     "output_type": "stream",
     "text": [
      "Time taken - on demand with pandas: 0.04794740676879883s\n"
     ]
    }
   ],
   "source": [
    "import pandas as pd\n",
    "\n",
    "time_start = time()\n",
    "pandas_measurements = []\n",
    "employees_union_df = pd.DataFrame(columns=['id', 'name'])\n",
    "salaries_union_df = pd.DataFrame(columns=['id', 'salary'])\n",
    "exs = []\n",
    "\n",
    "for step in tqdm(range(steps_to_take)):\n",
    "    local_time = time()\n",
    "    employees_batch_df = pd.DataFrame([ employee for employee, _ in fake_data_batches[step] ], columns=['id', 'name'])\n",
    "    employees_union_df = pd.concat([employees_union_df, employees_batch_df], ignore_index=True)\n",
    "\n",
    "    salaries_batch_df = pd.DataFrame([ salary for _, salary in fake_data_batches[step] ], columns=['id', 'salary'])\n",
    "    salaries_union_df = pd.concat([salaries_union_df, salaries_batch_df], ignore_index=True)\n",
    "    \n",
    "    employees_x_salaries = pd.merge(employees_union_df, salaries_union_df, on=['id'], how='inner')\n",
    "    exs.append(employees_x_salaries)\n",
    "    pandas_measurements.append(time() - local_time)\n",
    "\n",
    "print(f\"Time taken - on demand with pandas: {time() - time_start}s\")"
   ]
  },
  {
   "cell_type": "code",
   "execution_count": 11,
   "id": "c74c78cf-e019-4f28-9575-e3a31e0768d9",
   "metadata": {},
   "outputs": [
    {
     "data": {
      "application/vnd.jupyter.widget-view+json": {
       "model_id": "37b3ca3a60824af7a20ce0c0425432f5",
       "version_major": 2,
       "version_minor": 0
      },
      "text/plain": [
       "  0%|          | 0/20 [00:00<?, ?it/s]"
      ]
     },
     "metadata": {},
     "output_type": "display_data"
    },
    {
     "name": "stdout",
     "output_type": "stream",
     "text": [
      "Time taken - incremental: 3.2658674716949463s\n"
     ]
    }
   ],
   "source": [
    "time_start = time()\n",
    "incremental_measurements = []\n",
    "for _ in tqdm(range(steps_to_take)):\n",
    "    local_time = time()\n",
    "    incremental_stream_join.step()\n",
    "    incremental_measurements.append(time() - local_time)\n",
    "print(f\"Time taken - incremental: {time() - time_start}s\")"
   ]
  },
  {
   "cell_type": "code",
   "execution_count": 12,
   "id": "a4f55884-0dc5-437e-8c27-0a28b228e906",
   "metadata": {},
   "outputs": [
    {
     "data": {
      "application/vnd.jupyter.widget-view+json": {
       "model_id": "1bae4a73babc4ce4a3b9f6b5d2ffc887",
       "version_major": 2,
       "version_minor": 0
      },
      "text/plain": [
       "  0%|          | 0/20 [00:00<?, ?it/s]"
      ]
     },
     "metadata": {},
     "output_type": "display_data"
    },
    {
     "name": "stdout",
     "output_type": "stream",
     "text": [
      "Time taken - incremental with index: 0.24533510208129883s\n"
     ]
    }
   ],
   "source": [
    "time_start = time()\n",
    "incremental_with_index_measurements = []\n",
    "for _ in tqdm(range(steps_to_take)):\n",
    "    local_time = time()\n",
    "    index_employees.step()\n",
    "    index_salaries.step()\n",
    "    incremental_sort_merge_join.step()\n",
    "    incremental_with_index_measurements.append(time() - local_time)\n",
    "print(f\"Time taken - incremental with index: {time() - time_start}s\")"
   ]
  },
  {
   "cell_type": "code",
   "execution_count": 14,
   "id": "8ecf2cbb-05aa-4ee4-8cbc-b2cd9658b270",
   "metadata": {},
   "outputs": [
    {
     "data": {
      "text/plain": [
       "<Axes: xlabel='t', ylabel='seconds'>"
      ]
     },
     "execution_count": 14,
     "metadata": {},
     "output_type": "execute_result"
    },
    {
     "data": {
      "image/png": "[encoded data removed]",
      "text/plain": [
       "<Figure size 640x480 with 1 Axes>"
      ]
     },
     "metadata": {},
     "output_type": "display_data"
    }
   ],
   "source": [
    "import seaborn as sns\n",
    "    \n",
    "df = pd.DataFrame({ \"batch_pd\": pandas_measurements, \"batch\": measurements, \"inc\": incremental_measurements, \"inc_idx\": incremental_with_index_measurements, \"t\": list(range(steps_to_take)) })\n",
    "df_ready = pd.melt(df, id_vars=['t'], value_vars=['batch_pd', 'batch', 'inc', 'inc_idx'], var_name='series', value_name='seconds')\n",
    "\n",
    "sns.lineplot(data=df_ready, x='t', y='seconds', hue='series')"
   ]
  },
  {
   "cell_type": "code",
   "execution_count": 15,
   "id": "6d911a55-a3db-458f-87d7-0ef87057b6da",
   "metadata": {},
   "outputs": [
    {
     "data": {
      "application/vnd.jupyter.widget-view+json": {
       "model_id": "5d3497215f864fd3a3d9a5aef42d21e3",
       "version_major": 2,
       "version_minor": 0
      },
      "text/plain": [
       "  0%|          | 0/100 [00:00<?, ?it/s]"
      ]
     },
     "metadata": {},
     "output_type": "display_data"
    },
    {
     "name": "stdout",
     "output_type": "stream",
     "text": [
      "Time taken - on demand with pandas: 97.98046684265137s\n"
     ]
    }
   ],
   "source": [
    "batch_size = 100000\n",
    "\n",
    "lots_of_fake_data = [((i, names[randrange(len(names))] + str(i)), (i, randrange(max_pay))) for i in range(10000000)]\n",
    "lots_of_fake_data_batches = [lots_of_fake_data[i : i + batch_size] for i in range(0, len(lots_of_fake_data), batch_size)]\n",
    "\n",
    "new_pandas_measurements = []\n",
    "employees_union_df = pd.DataFrame(columns=['id', 'name'])\n",
    "salaries_union_df = pd.DataFrame(columns=['id', 'salary'])\n",
    "new_steps_to_take = len(lots_of_fake_data_batches)\n",
    "results_pandas = [] \n",
    "\n",
    "time_start = time()\n",
    "for step in tqdm(range(new_steps_to_take)):\n",
    "    local_time = time()\n",
    "    employees_batch_df = pd.DataFrame([ employee for employee, _ in lots_of_fake_data_batches[step] ], columns=['id', 'name'])\n",
    "    employees_union_df = pd.concat([employees_union_df, employees_batch_df], ignore_index=True)\n",
    "\n",
    "    salaries_batch_df = pd.DataFrame([ salary for _, salary in lots_of_fake_data_batches[step] ], columns=['id', 'salary'])\n",
    "    salaries_union_df = pd.concat([salaries_union_df, salaries_batch_df], ignore_index=True)\n",
    "    \n",
    "    employees_x_salaries = pd.merge(employees_union_df, salaries_union_df, on='id', how='inner')\n",
    "    results_pandas.append(employees_x_salaries)\n",
    "    new_pandas_measurements.append(time() - local_time)\n",
    "\n",
    "print(f\"Time taken - on demand with pandas: {time() - time_start}s\")"
   ]
  },
  {
   "cell_type": "code",
   "execution_count": 16,
   "id": "62579f9d-5c98-427f-964c-d98ca02f0eec",
   "metadata": {},
   "outputs": [],
   "source": [
    "from pydbsp.core import AbelianGroupOperation\n",
    "\n",
    "class ImmutableDataframeZSet:\n",
    "    def __init__(self, df: pd.DataFrame) -> None:\n",
    "        if 'weight' not in df.columns:\n",
    "            raise ValueError(\"DataFrame must have a 'weight' column\")\n",
    "        self.inner: List[pd.DataFrame] = [df[df['weight'] != 0]]\n",
    "\n",
    "    def __repr__(self) -> str:\n",
    "        return self.inner.__repr__()\n",
    "\n",
    "    def __eq__(self, other: object) -> bool:\n",
    "        if not isinstance(other, ImmutableDataframeZSet):\n",
    "            return False\n",
    "        if len(self.inner) != len(other.inner):\n",
    "            return False\n",
    "        return all(df1 is df2 for df1, df2 in zip(self.inner, other.inner))\n",
    "\n",
    "class ImmutableDataframeZSetAddition(AbelianGroupOperation[ImmutableDataframeZSet]):\n",
    "    def add(self, a: ImmutableDataframeZSet, b: ImmutableDataframeZSet) -> ImmutableDataframeZSet:\n",
    "        if not a.inner:\n",
    "            return b\n",
    "\n",
    "        if not b.inner:\n",
    "            return b\n",
    "            \n",
    "        result = ImmutableDataframeZSet(pd.DataFrame(columns=a.inner[0].columns))\n",
    "        result.inner = a.inner + b.inner\n",
    "        return result\n",
    "\n",
    "    def neg(self, a: ImmutableDataframeZSet) -> ImmutableDataframeZSet:\n",
    "        result = ImmutableDataframeZSet(pd.DataFrame(columns=a.inner[0].columns))\n",
    "        result.inner = [df.assign(weight=lambda x: -x.weight) for df in a.inner]\n",
    "        return result\n",
    "\n",
    "    def identity(self) -> ImmutableDataframeZSet:\n",
    "        return ImmutableDataframeZSet(pd.DataFrame(columns=['weight']))\n",
    "\n",
    "immutable_df_abelian_group = ImmutableDataframeZSetAddition()\n",
    "\n",
    "def join_dfs(\n",
    "    left_df: pd.DataFrame,\n",
    "    right_df: pd.DataFrame,\n",
    "    join_columns: List[str]\n",
    "):\n",
    "    if left_df.empty or right_df.empty:\n",
    "        return pd.DataFrame()\n",
    "    \n",
    "    joined = pd.merge(left_df, right_df, on=join_columns, how='inner', suffixes=('_left', '_right'))\n",
    "    joined['weight'] = joined['weight_left'] * joined['weight_right']\n",
    "    joined = joined.drop(['weight_left', 'weight_right'], axis=1)\n",
    "\n",
    "    return joined\n",
    "\n",
    "def immutable_dataframe_zset_join(\n",
    "    left_zset: ImmutableDataframeZSet,\n",
    "    right_zset: ImmutableDataframeZSet,\n",
    "    join_columns: List[str]\n",
    ") -> ImmutableDataframeZSet:\n",
    "    join_tasks = [(left_df, right_df, join_columns) \n",
    "                  for left_df in left_zset.inner \n",
    "                  for right_df in right_zset.inner]\n",
    "\n",
    "    result_dfs = [ join_dfs(left, right, join_columns) for left, right, join_columns in join_tasks ]\n",
    "\n",
    "    non_empty_dfs = [df for df in result_dfs if not df.empty]\n",
    "\n",
    "    if not non_empty_dfs:\n",
    "        return immutable_df_abelian_group.identity()\n",
    "\n",
    "    result = ImmutableDataframeZSet(pd.DataFrame(columns=non_empty_dfs[0].columns))\n",
    "    result.inner = non_empty_dfs\n",
    "    return result"
   ]
  },
  {
   "cell_type": "code",
   "execution_count": 17,
   "id": "cf27adfc-422c-4cc7-8d09-1cd5fbba4ff0",
   "metadata": {},
   "outputs": [
    {
     "name": "stdout",
     "output_type": "stream",
     "text": [
      "[   id      name salary  weight\n",
      "0   0  kristjan  38750       1\n",
      "1   1      mark  50000       1\n",
      "2   2      mike  40000       1]\n"
     ]
    }
   ],
   "source": [
    "employees_with_weight = [ employee + (1,) for employee in employees ]\n",
    "salaries_with_weight = [ salary + (1,) for salary in salaries ]  \n",
    "\n",
    "employees_pandas_zset = ImmutableDataframeZSet(pd.DataFrame(employees_with_weight, columns=['id', 'name', 'weight']))\n",
    "salaries_pandas_zset = ImmutableDataframeZSet(pd.DataFrame(salaries_with_weight , columns=['id', 'salary', 'weight']))\n",
    "\n",
    "print(immutable_dataframe_zset_join(employees_pandas_zset, salaries_pandas_zset, 'id'))"
   ]
  },
  {
   "cell_type": "code",
   "execution_count": 18,
   "id": "7c0cc00e-a09f-4765-8e08-2ae61ab7057b",
   "metadata": {},
   "outputs": [
    {
     "data": {
      "application/vnd.jupyter.widget-view+json": {
       "model_id": "7eb807738d914eada172e0868c799a3d",
       "version_major": 2,
       "version_minor": 0
      },
      "text/plain": [
       "  0%|          | 0/100 [00:00<?, ?it/s]"
      ]
     },
     "metadata": {},
     "output_type": "display_data"
    },
    {
     "name": "stdout",
     "output_type": "stream",
     "text": [
      "Time taken - incremental: 20.01264476776123s\n"
     ]
    }
   ],
   "source": [
    "employees_dfs_stream = Stream(immutable_df_abelian_group)\n",
    "employees_dfs_stream_handle = StreamHandle(lambda: employees_dfs_stream)\n",
    "\n",
    "salaries_dfs_stream = Stream(immutable_df_abelian_group)\n",
    "salaries_dfs_stream_handle = StreamHandle(lambda: salaries_dfs_stream)\n",
    "\n",
    "incremental_pandas_join = Incrementalize2(employees_dfs_stream_handle, salaries_dfs_stream_handle, lambda l, r: immutable_dataframe_zset_join(l, r, ['id']), immutable_df_abelian_group)\n",
    "incremental_pandas_measurements = []\n",
    "time_start = time()\n",
    "for step in tqdm(range(new_steps_to_take)):\n",
    "    local_time = time()\n",
    "    employees_batch_df = pd.DataFrame([ employee + (1,) for employee, _ in lots_of_fake_data_batches[step] ], columns=['id', 'name', 'weight'])\n",
    "    employees_dfs_stream.send(ImmutableDataframeZSet(employees_batch_df))\n",
    "    \n",
    "    salaries_batch_df = pd.DataFrame([ salary + (1,) for _, salary in lots_of_fake_data_batches[step] ], columns=['id', 'salary', 'weight'])\n",
    "    salaries_dfs_stream.send(ImmutableDataframeZSet(salaries_batch_df))\n",
    "        \n",
    "    incremental_pandas_join.step()\n",
    "    incremental_pandas_measurements.append(time() - local_time)\n",
    "print(f\"Time taken - incremental: {time() - time_start}s\")"
   ]
  },
  {
   "cell_type": "code",
   "execution_count": 19,
   "id": "5ca4034c-69d4-4f77-b89b-17cd69d53e22",
   "metadata": {},
   "outputs": [],
   "source": [
    "from pydbsp.core import AbelianGroupOperation\n",
    "import cudf as cu\n",
    "\n",
    "class ImmutableGPUDataframeZSet:\n",
    "    def __init__(self, df: cu.DataFrame) -> None:\n",
    "        if 'weight' not in df.columns:\n",
    "            raise ValueError(\"DataFrame must have a 'weight' column\")\n",
    "        self.inner: List[cu.DataFrame] = [df[df['weight'] != 0]]\n",
    "\n",
    "    def __repr__(self) -> str:\n",
    "        return self.inner.__repr__()\n",
    "\n",
    "    def __eq__(self, other: object) -> bool:\n",
    "        if not isinstance(other, ImmutableGPUDataframeZSet):\n",
    "            return False\n",
    "        if len(self.inner) != len(other.inner):\n",
    "            return False\n",
    "        return all(df1 is df2 for df1, df2 in zip(self.inner, other.inner))\n",
    "\n",
    "class ImmutableGPUZSetAddition(AbelianGroupOperation[ImmutableGPUDataframeZSet]):\n",
    "    def add(self, a: ImmutableGPUDataframeZSet, b: ImmutableGPUDataframeZSet) -> ImmutableGPUDataframeZSet:\n",
    "        if not a.inner:\n",
    "            return b\n",
    "\n",
    "        if not b.inner:\n",
    "            return b\n",
    "        \n",
    "        result = ImmutableGPUDataframeZSet(cu.DataFrame(columns=a.inner[0].columns))\n",
    "        result.inner = a.inner + b.inner\n",
    "        return result\n",
    "\n",
    "    def neg(self, a: ImmutableGPUDataframeZSet) -> ImmutableGPUDataframeZSet:\n",
    "        result = ImmutableGPUDataframeZSet(cu.DataFrame(columns=a.inner[0].columns))\n",
    "        result.inner = [df.assign(weight=lambda x: -x.weight) for df in a.inner]\n",
    "        return result\n",
    "\n",
    "    def identity(self) -> ImmutableGPUDataframeZSet:\n",
    "        return ImmutableGPUDataframeZSet(cu.DataFrame(columns=['weight']))\n",
    "\n",
    "immutable_gpu_df_abelian_group = ImmutableGPUZSetAddition()\n",
    "\n",
    "def join_gpu_dfs(\n",
    "    left_df: cu.DataFrame,\n",
    "    right_df: cu.DataFrame,\n",
    "    join_columns: List[str]\n",
    "):\n",
    "    if left_df.empty or right_df.empty:\n",
    "        return cu.DataFrame()\n",
    "    \n",
    "    joined = cu.merge(left_df, right_df, on=join_columns, how='inner', suffixes=('_left', '_right'))\n",
    "    joined['weight'] = joined['weight_left'] * joined['weight_right']\n",
    "    joined = joined.drop(['weight_left', 'weight_right'], axis=1)\n",
    "\n",
    "    return joined\n",
    "\n",
    "def immutable_gpu_dataframe_zset_join(\n",
    "    left_zset: ImmutableGPUDataframeZSet,\n",
    "    right_zset: ImmutableGPUDataframeZSet,\n",
    "    join_columns: List[str]\n",
    ") -> ImmutableGPUDataframeZSet:\n",
    "    join_tasks = [(left_df, right_df, join_columns) \n",
    "                  for left_df in left_zset.inner \n",
    "                  for right_df in right_zset.inner]\n",
    "\n",
    "    result_dfs = [ join_gpu_dfs(left, right, join_columns) for left, right, join_columns in join_tasks ]\n",
    "\n",
    "    non_empty_dfs = [df for df in result_dfs if not df.empty]\n",
    "\n",
    "    if not non_empty_dfs:\n",
    "        return immutable_gpu_df_abelian_group.identity()\n",
    "\n",
    "    result = ImmutableGPUDataframeZSet(cu.DataFrame(columns=non_empty_dfs[0].columns))\n",
    "    result.inner = non_empty_dfs\n",
    "    return result"
   ]
  },
  {
   "cell_type": "code",
   "execution_count": 20,
   "id": "118e75f7-2484-49f9-9931-0dd6d2a162b6",
   "metadata": {},
   "outputs": [
    {
     "data": {
      "application/vnd.jupyter.widget-view+json": {
       "model_id": "1da90297047d4c78b1b55a5ebcf94ddb",
       "version_major": 2,
       "version_minor": 0
      },
      "text/plain": [
       "  0%|          | 0/100 [00:00<?, ?it/s]"
      ]
     },
     "metadata": {},
     "output_type": "display_data"
    },
    {
     "name": "stdout",
     "output_type": "stream",
     "text": [
      "Time taken - incremental: 27.512064933776855s\n"
     ]
    }
   ],
   "source": [
    "employees_gpu_dfs_stream = Stream(immutable_gpu_df_abelian_group)\n",
    "employees_gpu_dfs_stream_handle = StreamHandle(lambda: employees_gpu_dfs_stream)\n",
    "\n",
    "salaries_gpu_dfs_stream = Stream(immutable_gpu_df_abelian_group)\n",
    "salaries_gpu_dfs_stream_handle = StreamHandle(lambda: salaries_gpu_dfs_stream)\n",
    "\n",
    "incremental_gpu_pandas_join = Incrementalize2(employees_gpu_dfs_stream_handle, salaries_gpu_dfs_stream_handle, lambda l, r: immutable_gpu_dataframe_zset_join(l, r, ['id']), immutable_gpu_df_abelian_group)\n",
    "incremental_gpu_pandas_measurements = []\n",
    "time_start = time()\n",
    "for step in tqdm(range(new_steps_to_take)):\n",
    "    local_time = time()\n",
    "    employees_batch_df = cu.DataFrame([ employee + (1,) for employee, _ in lots_of_fake_data_batches[step] ], columns=['id', 'name', 'weight'])\n",
    "    employees_gpu_dfs_stream.send(ImmutableGPUDataframeZSet(employees_batch_df))\n",
    "    \n",
    "    salaries_batch_df = cu.DataFrame([ salary + (1,) for _, salary in lots_of_fake_data_batches[step] ], columns=['id', 'salary', 'weight'])\n",
    "    salaries_gpu_dfs_stream.send(ImmutableGPUDataframeZSet(salaries_batch_df))\n",
    "        \n",
    "    incremental_gpu_pandas_join.step()\n",
    "    incremental_gpu_pandas_measurements.append(time() - local_time)\n",
    "print(f\"Time taken - incremental: {time() - time_start}s\")"
   ]
  },
  {
   "cell_type": "code",
   "execution_count": 21,
   "id": "7ce34c52-d006-4b21-a6bd-c503cef4486b",
   "metadata": {},
   "outputs": [
    {
     "data": {
      "text/plain": [
       "<Axes: xlabel='t', ylabel='seconds'>"
      ]
     },
     "execution_count": 21,
     "metadata": {},
     "output_type": "execute_result"
    },
    {
     "data": {
      "image/png": "[encoded data removed]",
      "text/plain": [
       "<Figure size 640x480 with 1 Axes>"
      ]
     },
     "metadata": {},
     "output_type": "display_data"
    }
   ],
   "source": [
    "df_inc = pd.DataFrame({ \"batch_pd\": new_pandas_measurements, \"inc_pd\": incremental_pandas_measurements, \"inc_gpu_pd\": incremental_gpu_pandas_measurements ,\"t\": list(range(new_steps_to_take)) })\n",
    "df_inc_ready = pd.melt(df_inc, id_vars=['t'], value_vars=['batch_pd', 'inc_pd', 'inc_gpu_pd'], var_name='series', value_name='seconds')\n",
    "\n",
    "\n",
    "sns.lineplot(data=df_inc_ready, x='t', y='seconds', hue='series')"
   ]
  }
 ],
 "metadata": {
  "kernelspec": {
   "display_name": "Python 3 (ipykernel)",
   "language": "python",
   "name": "python3"
  },
  "language_info": {
   "codemirror_mode": {
    "name": "ipython",
    "version": 3
   },
   "file_extension": ".py",
   "mimetype": "text/x-python",
   "name": "python",
   "nbconvert_exporter": "python",
   "pygments_lexer": "ipython3",
   "version": "3.12.7"
  }
 },
 "nbformat": 4,
 "nbformat_minor": 5
}
