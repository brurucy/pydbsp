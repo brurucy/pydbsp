{
 "cells": [
  {
   "cell_type": "code",
   "execution_count": 1,
   "id": "bfb5a0e0-adf0-453a-a93c-cdac78ae8e1c",
   "metadata": {},
   "outputs": [
    {
     "name": "stdout",
     "output_type": "stream",
     "text": [
      "{('E', (2, 3)): 1, ('E', (0, 2)): 1, ('E', (0, 1)): 1, ('E', (3, 4)): 1, ('T', (2, 3)): 1, ('T', (0, 2)): 1, ('T', (0, 1)): 1, ('T', (3, 4)): 1, ('T', (2, 4)): 1, ('T', (0, 3)): 1, ('T', (0, 4)): 1}\n"
     ]
    }
   ],
   "source": [
    "from pydbsp.zset import ZSet, ZSetAddition\n",
    "from pydbsp.stream import step_until_fixpoint\n",
    "from typing import Tuple, List\n",
    "\n",
    "from pydbsp.algorithms.datalog import (\n",
    "    EDB,\n",
    "    Fact,\n",
    "    Program,\n",
    "    Rule,\n",
    ")\n",
    "\n",
    "Edge = Tuple[int, int]\n",
    "GraphZSet = ZSet[Edge]\n",
    "\n",
    "def create_test_zset_graph(n: int) -> GraphZSet:\n",
    "    return ZSet({(k, k + 1): 1 for k in range(n)})\n",
    "\n",
    "def create_test_edb(n: int) -> EDB:\n",
    "    test_graph = create_test_zset_graph(n)\n",
    "    group: ZSetAddition[Fact] = ZSetAddition()\n",
    "\n",
    "    test_edb = group.identity()\n",
    "    for k, v in test_graph.items():\n",
    "        test_edb.inner[(\"E\", (k[0], k[1]))] = v\n",
    "\n",
    "    return test_edb\n",
    "\n",
    "def from_facts_into_zset(facts: List[Tuple[Fact, int]]) -> EDB:\n",
    "    edb: EDB = ZSetAddition().identity()\n",
    "    for fact, weight in facts:\n",
    "        edb.inner[fact] = weight\n",
    "\n",
    "    return edb\n",
    "\n",
    "\n",
    "def from_rule_into_zset(rule: Rule, weight: int) -> Program:\n",
    "    program: Program = ZSetAddition().identity()\n",
    "    program.inner[rule] = weight\n",
    "\n",
    "    return program\n",
    "\n",
    "from pydbsp.algorithms.datalog import IncrementalDatalog, Variable\n",
    "from pydbsp.stream import Stream, StreamHandle\n",
    "from pydbsp.stream.operators.linear import stream_elimination\n",
    "\n",
    "edb_group: ZSetAddition[Fact] = ZSetAddition()\n",
    "edb_stream = Stream(edb_group)\n",
    "edb_stream_h = StreamHandle(lambda: edb_stream)\n",
    "\n",
    "program_group: ZSetAddition[Tuple[int, Rule]]= ZSetAddition()\n",
    "program_stream = Stream(program_group)\n",
    "program_stream_h = StreamHandle(lambda: program_stream)\n",
    "\n",
    "seed: Rule = ((\"T\", (Variable(\"X\"), Variable(\"Y\"))), (\"E\", (Variable(\"X\"), Variable(\"Y\"))))\n",
    "transitivity: Rule = (\n",
    "    (\"T\", (Variable(\"X\"), Variable(\"Z\"))),\n",
    "    (\"T\", (Variable(\"X\"), Variable(\"Y\"))),\n",
    "    (\"T\", (Variable(\"Y\"), Variable(\"Z\"))),\n",
    ")\n",
    "\n",
    "class FromProgramIntoGraph(): ...\n",
    "# For each rule...\n",
    "# # For each body atom\n",
    "# # # ( rule.predicate, hash (rule with body atom in head) )\n",
    "\n",
    "class PropagateCore(): ...\n",
    "\n",
    "reasoner = IncrementalDatalog(edb_stream_h, program_stream_h, None)\n",
    "edb_stream.send(from_facts_into_zset([((\"E\", (2, 3)), 1), ((\"E\", (0, 2)), 1), ((\"E\", (0, 1)), 1), ((\"E\", (3, 4)), 1)]))\n",
    "program_stream.send(from_rule_into_zset(transitivity, 1))\n",
    "program_stream.send(from_rule_into_zset(seed, 1))\n",
    "\n",
    "step_until_fixpoint(reasoner)\n",
    "print(stream_elimination(reasoner.output()))"
   ]
  }
 ],
 "metadata": {
  "kernelspec": {
   "display_name": "Python 3 (ipykernel)",
   "language": "python",
   "name": "python3"
  },
  "language_info": {
   "codemirror_mode": {
    "name": "ipython",
    "version": 3
   },
   "file_extension": ".py",
   "mimetype": "text/x-python",
   "name": "python",
   "nbconvert_exporter": "python",
   "pygments_lexer": "ipython3",
   "version": "3.12.4"
  }
 },
 "nbformat": 4,
 "nbformat_minor": 5
}
