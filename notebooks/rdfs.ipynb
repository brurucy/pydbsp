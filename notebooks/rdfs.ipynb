{
 "cells": [
  {
   "cell_type": "code",
   "execution_count": 1,
   "id": "430f9076-9721-45e3-9067-e6d8eed5648f",
   "metadata": {},
   "outputs": [],
   "source": [
    "from pydbsp.algorithms import rdfs\n",
    "from pydbsp.zset import ZSet\n",
    "from typing import cast\n",
    "\n",
    "def load_graph(file_path: str) -> rdfs.RDFGraph:\n",
    "    out = []\n",
    "\n",
    "    with open(file_path, mode=\"r\") as file:\n",
    "        lines = file.readlines()\n",
    "        out = {\n",
    "            edge: 1\n",
    "            for edge in map(\n",
    "                lambda line: tuple(map(lambda node: int(node), line.split()[0:3])),\n",
    "                lines,\n",
    "            )\n",
    "        }\n",
    "\n",
    "    return cast(rdfs.RDFGraph, ZSet(out))"
   ]
  },
  {
   "cell_type": "code",
   "execution_count": 2,
   "id": "73a8ee17-34c4-4cfe-89ff-b6226a259964",
   "metadata": {},
   "outputs": [],
   "source": [
    "tbox = load_graph(\"data/lubm1tbox.ntenc\")\n",
    "abox = load_graph(\"data/lubm1abox.ntenc\")"
   ]
  },
  {
   "cell_type": "code",
   "execution_count": 3,
   "id": "bdf00144-715d-4ffe-9253-eb2411a5faa1",
   "metadata": {},
   "outputs": [],
   "source": [
    "import pandas as pd\n",
    "\n",
    "pandas_tbox = pd.DataFrame(tbox.inner.keys(), columns=['s', 'p', 'o'])\n",
    "pandas_tbox['weight'] = 1\n",
    "pandas_abox = pd.DataFrame(abox.inner.keys(), columns=['s', 'p', 'o'])\n",
    "pandas_abox['weight'] = 1"
   ]
  },
  {
   "cell_type": "code",
   "execution_count": 4,
   "id": "b4a76c24-746f-4921-8c29-ab760a8ad442",
   "metadata": {},
   "outputs": [
    {
     "data": {
      "text/html": [
       "<div>\n",
       "<style scoped>\n",
       "    .dataframe tbody tr th:only-of-type {\n",
       "        vertical-align: middle;\n",
       "    }\n",
       "\n",
       "    .dataframe tbody tr th {\n",
       "        vertical-align: top;\n",
       "    }\n",
       "\n",
       "    .dataframe thead th {\n",
       "        text-align: right;\n",
       "    }\n",
       "</style>\n",
       "<table border=\"1\" class=\"dataframe\">\n",
       "  <thead>\n",
       "    <tr style=\"text-align: right;\">\n",
       "      <th></th>\n",
       "      <th>s</th>\n",
       "      <th>p</th>\n",
       "      <th>o</th>\n",
       "      <th>weight</th>\n",
       "    </tr>\n",
       "  </thead>\n",
       "  <tbody>\n",
       "    <tr>\n",
       "      <th>0</th>\n",
       "      <td>199</td>\n",
       "      <td>4</td>\n",
       "      <td>37</td>\n",
       "      <td>1</td>\n",
       "    </tr>\n",
       "    <tr>\n",
       "      <th>1</th>\n",
       "      <td>199</td>\n",
       "      <td>200</td>\n",
       "      <td>47</td>\n",
       "      <td>1</td>\n",
       "    </tr>\n",
       "    <tr>\n",
       "      <th>2</th>\n",
       "      <td>201</td>\n",
       "      <td>4</td>\n",
       "      <td>151</td>\n",
       "      <td>1</td>\n",
       "    </tr>\n",
       "    <tr>\n",
       "      <th>3</th>\n",
       "      <td>201</td>\n",
       "      <td>175</td>\n",
       "      <td>202</td>\n",
       "      <td>1</td>\n",
       "    </tr>\n",
       "    <tr>\n",
       "      <th>4</th>\n",
       "      <td>203</td>\n",
       "      <td>4</td>\n",
       "      <td>73</td>\n",
       "      <td>1</td>\n",
       "    </tr>\n",
       "  </tbody>\n",
       "</table>\n",
       "</div>"
      ],
      "text/plain": [
       "     s    p    o  weight\n",
       "0  199    4   37       1\n",
       "1  199  200   47       1\n",
       "2  201    4  151       1\n",
       "3  201  175  202       1\n",
       "4  203    4   73       1"
      ]
     },
     "execution_count": 4,
     "metadata": {},
     "output_type": "execute_result"
    }
   ],
   "source": [
    "pandas_abox.head()"
   ]
  },
  {
   "cell_type": "code",
   "execution_count": 5,
   "id": "58c68275-f291-4ada-8b26-3b67a177a693",
   "metadata": {},
   "outputs": [],
   "source": [
    "from pydbsp.stream.functions.linear import stream_introduction\n",
    "from pydbsp.stream import StreamHandle\n",
    "from pydbsp.algorithms.rdfs import IncrementalRDFSMaterialization, LazyIncrementalRDFSMaterialization, PandasIncrementalRDFSMaterialization, RDFTuple\n",
    "from pydbsp.zset import ZSetAddition\n",
    "from pydbsp.pandas_dataframe_zset import PandasBackedZSetAddition, PandasBackedZSet\n",
    "\n",
    "lazy_tbox = PandasBackedZSet([pandas_tbox])\n",
    "tbox_stream = stream_introduction(lazy_tbox, PandasBackedZSetAddition())\n",
    "tbox_stream_h = StreamHandle(lambda: tbox_stream)\n",
    "lazy_abox = PandasBackedZSet([pandas_abox])\n",
    "abox_stream = stream_introduction(lazy_abox, PandasBackedZSetAddition())\n",
    "abox_stream_h = StreamHandle(lambda: abox_stream)\n",
    "\n",
    "rdfs_reasoner = PandasIncrementalRDFSMaterialization(tbox_stream_h, abox_stream_h, None)"
   ]
  },
  {
   "cell_type": "code",
   "execution_count": 6,
   "id": "6c495829-5b4c-48f0-9ac4-f7e90c732bab",
   "metadata": {},
   "outputs": [],
   "source": [
    "from pydbsp.stream import step_until_fixpoint"
   ]
  },
  {
   "cell_type": "code",
   "execution_count": 7,
   "id": "708e1d7c-9882-4282-a652-e55d786f6664",
   "metadata": {},
   "outputs": [
    {
     "ename": "NameError",
     "evalue": "name 'np' is not defined",
     "output_type": "error",
     "traceback": [
      "\u001b[0;31m---------------------------------------------------------------------------\u001b[0m",
      "\u001b[0;31mNameError\u001b[0m                                 Traceback (most recent call last)",
      "File \u001b[0;32m<timed eval>:1\u001b[0m\n",
      "File \u001b[0;32m~/Dev/Python/pydbsp/pydbsp/algorithms/rdfs.py:638\u001b[0m, in \u001b[0;36mPandasIncrementalRDFSMaterialization.step\u001b[0;34m(self)\u001b[0m\n\u001b[1;32m    636\u001b[0m \u001b[38;5;28;01mwhile\u001b[39;00m \u001b[38;5;28;01mTrue\u001b[39;00m:\n\u001b[1;32m    637\u001b[0m     \u001b[38;5;28mself\u001b[39m\u001b[38;5;241m.\u001b[39msco_join_sum\u001b[38;5;241m.\u001b[39mstep()\n\u001b[0;32m--> 638\u001b[0m     \u001b[38;5;28;43mself\u001b[39;49m\u001b[38;5;241;43m.\u001b[39;49m\u001b[43msco_distinct\u001b[49m\u001b[38;5;241;43m.\u001b[39;49m\u001b[43mstep\u001b[49m\u001b[43m(\u001b[49m\u001b[43m)\u001b[49m\n\u001b[1;32m    639\u001b[0m     \u001b[38;5;28mself\u001b[39m\u001b[38;5;241m.\u001b[39msco_lift_delay_distinct\u001b[38;5;241m.\u001b[39mstep()\n\u001b[1;32m    640\u001b[0m     \u001b[38;5;28mself\u001b[39m\u001b[38;5;241m.\u001b[39msco_join\u001b[38;5;241m.\u001b[39mstep()\n",
      "File \u001b[0;32m~/Dev/Python/pydbsp/pydbsp/pandas_dataframe_zset/operators/unary.py:45\u001b[0m, in \u001b[0;36mDeltaLiftedDeltaLiftedDistinct.step\u001b[0;34m(self)\u001b[0m\n\u001b[1;32m     43\u001b[0m fixedpoint_lift_integrated_diff_stream_a \u001b[38;5;241m=\u001b[39m \u001b[38;5;28mself\u001b[39m\u001b[38;5;241m.\u001b[39mlift_integrated_diff_stream_a\u001b[38;5;241m.\u001b[39mstep()\n\u001b[1;32m     44\u001b[0m fixedpoint_lift_delay_lift_integrated_diff_stream_a \u001b[38;5;241m=\u001b[39m \u001b[38;5;28mself\u001b[39m\u001b[38;5;241m.\u001b[39mlift_delay_lift_integrated_diff_stream_a\u001b[38;5;241m.\u001b[39mstep()\n\u001b[0;32m---> 45\u001b[0m fixedpoint_lift_lift_H \u001b[38;5;241m=\u001b[39m \u001b[38;5;28;43mself\u001b[39;49m\u001b[38;5;241;43m.\u001b[39;49m\u001b[43mlift_lift_H\u001b[49m\u001b[38;5;241;43m.\u001b[39;49m\u001b[43mstep\u001b[49m\u001b[43m(\u001b[49m\u001b[43m)\u001b[49m\n\u001b[1;32m     46\u001b[0m fixedpoint_diff_lift_lift_H \u001b[38;5;241m=\u001b[39m \u001b[38;5;28mself\u001b[39m\u001b[38;5;241m.\u001b[39mdiff_lift_lift_H\u001b[38;5;241m.\u001b[39mstep()\n\u001b[1;32m     48\u001b[0m \u001b[38;5;28;01mreturn\u001b[39;00m (\n\u001b[1;32m     49\u001b[0m     fixedpoint_integrated_diff_stream_a\n\u001b[1;32m     50\u001b[0m     \u001b[38;5;129;01mand\u001b[39;00m fixedpoint_lift_integrated_diff_stream_a\n\u001b[0;32m   (...)\u001b[0m\n\u001b[1;32m     53\u001b[0m     \u001b[38;5;129;01mand\u001b[39;00m fixedpoint_diff_lift_lift_H\n\u001b[1;32m     54\u001b[0m )\n",
      "File \u001b[0;32m~/Dev/Python/pydbsp/pydbsp/stream/__init__.py:431\u001b[0m, in \u001b[0;36mLift2.step\u001b[0;34m(self)\u001b[0m\n\u001b[1;32m    428\u001b[0m a \u001b[38;5;241m=\u001b[39m \u001b[38;5;28mself\u001b[39m\u001b[38;5;241m.\u001b[39minput_a()[next_frontier_a]\n\u001b[1;32m    429\u001b[0m b \u001b[38;5;241m=\u001b[39m \u001b[38;5;28mself\u001b[39m\u001b[38;5;241m.\u001b[39minput_b()[next_frontier_b]\n\u001b[0;32m--> 431\u001b[0m application \u001b[38;5;241m=\u001b[39m \u001b[38;5;28;43mself\u001b[39;49m\u001b[38;5;241;43m.\u001b[39;49m\u001b[43mf2\u001b[49m\u001b[43m(\u001b[49m\u001b[43ma\u001b[49m\u001b[43m,\u001b[49m\u001b[43m \u001b[49m\u001b[43mb\u001b[49m\u001b[43m)\u001b[49m\n\u001b[1;32m    432\u001b[0m \u001b[38;5;28mself\u001b[39m\u001b[38;5;241m.\u001b[39moutput()\u001b[38;5;241m.\u001b[39msend(application)\n\u001b[1;32m    434\u001b[0m \u001b[38;5;28mself\u001b[39m\u001b[38;5;241m.\u001b[39mfrontier_a \u001b[38;5;241m=\u001b[39m next_frontier_a\n",
      "File \u001b[0;32m~/Dev/Python/pydbsp/pydbsp/pandas_dataframe_zset/operators/binary.py:24\u001b[0m, in \u001b[0;36mLiftedLiftedH.__init__.<locals>.<lambda>\u001b[0;34m(x, y)\u001b[0m\n\u001b[1;32m     16\u001b[0m \u001b[38;5;28;01mdef\u001b[39;00m \u001b[38;5;21m__init__\u001b[39m(\n\u001b[1;32m     17\u001b[0m     \u001b[38;5;28mself\u001b[39m,\n\u001b[1;32m     18\u001b[0m     integrated_diff_stream_a: StreamHandle[Stream[PandasBackedZSet]],\n\u001b[1;32m     19\u001b[0m     lifted_delayed_lifted_integrated_stream_a: StreamHandle[Stream[PandasBackedZSet]],\n\u001b[1;32m     20\u001b[0m ):\n\u001b[1;32m     21\u001b[0m     \u001b[38;5;28msuper\u001b[39m()\u001b[38;5;241m.\u001b[39m\u001b[38;5;21m__init__\u001b[39m(\n\u001b[1;32m     22\u001b[0m         integrated_diff_stream_a,\n\u001b[1;32m     23\u001b[0m         lifted_delayed_lifted_integrated_stream_a,\n\u001b[0;32m---> 24\u001b[0m         \u001b[38;5;28;01mlambda\u001b[39;00m x, y: \u001b[43mstep_until_fixpoint_and_return\u001b[49m\u001b[43m(\u001b[49m\u001b[43mLiftedH\u001b[49m\u001b[43m(\u001b[49m\u001b[43mStreamHandle\u001b[49m\u001b[43m(\u001b[49m\u001b[38;5;28;43;01mlambda\u001b[39;49;00m\u001b[43m:\u001b[49m\u001b[43m \u001b[49m\u001b[43mx\u001b[49m\u001b[43m)\u001b[49m\u001b[43m,\u001b[49m\u001b[43m \u001b[49m\u001b[43mStreamHandle\u001b[49m\u001b[43m(\u001b[49m\u001b[38;5;28;43;01mlambda\u001b[39;49;00m\u001b[43m:\u001b[49m\u001b[43m \u001b[49m\u001b[43my\u001b[49m\u001b[43m)\u001b[49m\u001b[43m)\u001b[49m\u001b[43m)\u001b[49m,\n\u001b[1;32m     25\u001b[0m         \u001b[38;5;28;01mNone\u001b[39;00m,\n\u001b[1;32m     26\u001b[0m     )\n",
      "File \u001b[0;32m~/Dev/Python/pydbsp/pydbsp/stream/__init__.py:251\u001b[0m, in \u001b[0;36mstep_until_fixpoint_and_return\u001b[0;34m(operator)\u001b[0m\n\u001b[1;32m    250\u001b[0m \u001b[38;5;28;01mdef\u001b[39;00m \u001b[38;5;21mstep_until_fixpoint_and_return\u001b[39m[T](operator: Operator[T]) \u001b[38;5;241m-\u001b[39m\u001b[38;5;241m>\u001b[39m Stream[T]:\n\u001b[0;32m--> 251\u001b[0m     \u001b[43mstep_until_fixpoint\u001b[49m\u001b[43m(\u001b[49m\u001b[43moperator\u001b[49m\u001b[43m)\u001b[49m\n\u001b[1;32m    253\u001b[0m     \u001b[38;5;28;01mreturn\u001b[39;00m operator\u001b[38;5;241m.\u001b[39moutput_handle()\u001b[38;5;241m.\u001b[39mget()\n",
      "File \u001b[0;32m~/Dev/Python/pydbsp/pydbsp/stream/__init__.py:246\u001b[0m, in \u001b[0;36mstep_until_fixpoint\u001b[0;34m(operator)\u001b[0m\n\u001b[1;32m    245\u001b[0m \u001b[38;5;28;01mdef\u001b[39;00m \u001b[38;5;21mstep_until_fixpoint\u001b[39m[T](operator: Operator[T]) \u001b[38;5;241m-\u001b[39m\u001b[38;5;241m>\u001b[39m \u001b[38;5;28;01mNone\u001b[39;00m:\n\u001b[0;32m--> 246\u001b[0m     \u001b[38;5;28;01mwhile\u001b[39;00m \u001b[38;5;129;01mnot\u001b[39;00m \u001b[43moperator\u001b[49m\u001b[38;5;241;43m.\u001b[39;49m\u001b[43mstep\u001b[49m\u001b[43m(\u001b[49m\u001b[43m)\u001b[49m:\n\u001b[1;32m    247\u001b[0m         \u001b[38;5;28;01mpass\u001b[39;00m\n",
      "File \u001b[0;32m~/Dev/Python/pydbsp/pydbsp/stream/__init__.py:431\u001b[0m, in \u001b[0;36mLift2.step\u001b[0;34m(self)\u001b[0m\n\u001b[1;32m    428\u001b[0m a \u001b[38;5;241m=\u001b[39m \u001b[38;5;28mself\u001b[39m\u001b[38;5;241m.\u001b[39minput_a()[next_frontier_a]\n\u001b[1;32m    429\u001b[0m b \u001b[38;5;241m=\u001b[39m \u001b[38;5;28mself\u001b[39m\u001b[38;5;241m.\u001b[39minput_b()[next_frontier_b]\n\u001b[0;32m--> 431\u001b[0m application \u001b[38;5;241m=\u001b[39m \u001b[38;5;28;43mself\u001b[39;49m\u001b[38;5;241;43m.\u001b[39;49m\u001b[43mf2\u001b[49m\u001b[43m(\u001b[49m\u001b[43ma\u001b[49m\u001b[43m,\u001b[49m\u001b[43m \u001b[49m\u001b[43mb\u001b[49m\u001b[43m)\u001b[49m\n\u001b[1;32m    432\u001b[0m \u001b[38;5;28mself\u001b[39m\u001b[38;5;241m.\u001b[39moutput()\u001b[38;5;241m.\u001b[39msend(application)\n\u001b[1;32m    434\u001b[0m \u001b[38;5;28mself\u001b[39m\u001b[38;5;241m.\u001b[39mfrontier_a \u001b[38;5;241m=\u001b[39m next_frontier_a\n",
      "File \u001b[0;32m~/Dev/Python/pydbsp/pydbsp/pandas_dataframe_zset/functions/binary.py:15\u001b[0m, in \u001b[0;36mH\u001b[0;34m(diff, integrated_state)\u001b[0m\n\u001b[1;32m     12\u001b[0m merged \u001b[38;5;241m=\u001b[39m pd\u001b[38;5;241m.\u001b[39mmerge(jiff, state_df, left_index\u001b[38;5;241m=\u001b[39m\u001b[38;5;28;01mTrue\u001b[39;00m, right_index\u001b[38;5;241m=\u001b[39m\u001b[38;5;28;01mTrue\u001b[39;00m, how\u001b[38;5;241m=\u001b[39m\u001b[38;5;124m\"\u001b[39m\u001b[38;5;124mouter\u001b[39m\u001b[38;5;124m\"\u001b[39m, suffixes\u001b[38;5;241m=\u001b[39m(\u001b[38;5;124m\"\u001b[39m\u001b[38;5;124m_diff\u001b[39m\u001b[38;5;124m\"\u001b[39m, \u001b[38;5;124m\"\u001b[39m\u001b[38;5;124m_state\u001b[39m\u001b[38;5;124m\"\u001b[39m))\n\u001b[1;32m     14\u001b[0m \u001b[38;5;66;03m# Use numpy where instead of fillna\u001b[39;00m\n\u001b[0;32m---> 15\u001b[0m merged[\u001b[38;5;124m\"\u001b[39m\u001b[38;5;124mweight_diff\u001b[39m\u001b[38;5;124m\"\u001b[39m] \u001b[38;5;241m=\u001b[39m \u001b[43mnp\u001b[49m\u001b[38;5;241m.\u001b[39mwhere(merged[\u001b[38;5;124m\"\u001b[39m\u001b[38;5;124mweight_diff\u001b[39m\u001b[38;5;124m\"\u001b[39m]\u001b[38;5;241m.\u001b[39misna(), \u001b[38;5;241m0\u001b[39m, merged[\u001b[38;5;124m\"\u001b[39m\u001b[38;5;124mweight_diff\u001b[39m\u001b[38;5;124m\"\u001b[39m])\n\u001b[1;32m     16\u001b[0m merged[\u001b[38;5;124m\"\u001b[39m\u001b[38;5;124mweight_state\u001b[39m\u001b[38;5;124m\"\u001b[39m] \u001b[38;5;241m=\u001b[39m np\u001b[38;5;241m.\u001b[39mwhere(merged[\u001b[38;5;124m\"\u001b[39m\u001b[38;5;124mweight_state\u001b[39m\u001b[38;5;124m\"\u001b[39m]\u001b[38;5;241m.\u001b[39misna(), \u001b[38;5;241m0\u001b[39m, merged[\u001b[38;5;124m\"\u001b[39m\u001b[38;5;124mweight_state\u001b[39m\u001b[38;5;124m\"\u001b[39m])\n\u001b[1;32m     18\u001b[0m merged[\u001b[38;5;124m\"\u001b[39m\u001b[38;5;124mcoalesced_weight\u001b[39m\u001b[38;5;124m\"\u001b[39m] \u001b[38;5;241m=\u001b[39m merged[\u001b[38;5;124m\"\u001b[39m\u001b[38;5;124mweight_diff\u001b[39m\u001b[38;5;124m\"\u001b[39m] \u001b[38;5;241m+\u001b[39m merged[\u001b[38;5;124m\"\u001b[39m\u001b[38;5;124mweight_state\u001b[39m\u001b[38;5;124m\"\u001b[39m]\n",
      "\u001b[0;31mNameError\u001b[0m: name 'np' is not defined"
     ]
    }
   ],
   "source": [
    "%time rdfs_reasoner.step()"
   ]
  },
  {
   "cell_type": "code",
   "execution_count": null,
   "id": "dd8522d3-dce4-4756-b0a9-ff9b41f65f90",
   "metadata": {},
   "outputs": [],
   "source": [
    "from pydbsp.stream.functions.linear import stream_elimination\n",
    "\n",
    "len(stream_elimination(rdfs_reasoner.output()).coalesce().inner)"
   ]
  },
  {
   "cell_type": "code",
   "execution_count": null,
   "id": "f0e2a6c3-d1e9-41a4-b47d-a7a9b6b9a685",
   "metadata": {},
   "outputs": [],
   "source": [
    "from pydbsp.algorithms.datalog import IncrementalDatalog, Variable, Rule, Program\n",
    "from pydbsp.algorithms.rdfs import SCO, SPO, TYPE, DOMAIN, RANGE\n",
    "\n",
    "sco_rec = Rule = (\n",
    "    (\"T\", (Variable(\"x\"), SCO, Variable(\"z\"))),\n",
    "    (\"T\", (Variable(\"x\"), SCO, Variable(\"y\"))),\n",
    "    (\"T\", (Variable(\"y\"), SCO, Variable(\"z\"))))\n",
    "spo_rec = Rule = (\n",
    "    (\"T\", (Variable(\"x\"), SPO, Variable(\"z\"))),\n",
    "    (\"T\", (Variable(\"x\"), SPO, Variable(\"y\"))),\n",
    "    (\"T\", (Variable(\"y\"), SPO, Variable(\"z\"))))\n",
    "prop_rec = (\n",
    "    (\"A\", (Variable(\"x\"), Variable(\"b\"), Variable(\"y\"))),\n",
    "    (\"T\", (Variable(\"a\"), SPO, Variable(\"b\"))),\n",
    "    (\"A\", (Variable(\"x\"), Variable(\"a\"), Variable(\"y\"))))\n",
    "domain_nonrec = (\n",
    "    (\"A\", (Variable(\"y\"), TYPE, Variable(\"x\"))),\n",
    "    (\"T\", (Variable(\"a\"), DOMAIN, Variable(\"x\"))),\n",
    "    (\"A\", (Variable(\"y\"), Variable(\"a\"), Variable(\"z\"))))\n",
    "range_nonrec = (\n",
    "    (\"A\", (Variable(\"z\"), TYPE, Variable(\"x\"))),\n",
    "    (\"T\", (Variable(\"a\"), RANGE, Variable(\"x\"))),\n",
    "    (\"A\", (Variable(\"y\"), Variable(\"a\"), Variable(\"z\"))))\n",
    "class_rec = (\n",
    "    (\"A\", (Variable(\"z\"), TYPE, Variable(\"y\"))),\n",
    "    (\"T\", (Variable(\"x\"), SCO, Variable(\"y\"))),\n",
    "    (\"A\", (Variable(\"z\"), TYPE, Variable(\"x\"))))\n",
    "program = Program({ sco_rec: 1, spo_rec: 1, prop_rec: 1, domain_nonrec: 1, range_nonrec: 1, class_rec: 1 })\n",
    "program_s = stream_introduction(program, ZSetAddition())\n",
    "program_s_h = StreamHandle(lambda: program_s)\n",
    "\n",
    "abox_facts = ZSet({})\n",
    "tbox_facts = ZSet({})\n",
    "\n",
    "for abox_triple, weight in abox.items():\n",
    "    abox_facts[(\"A\", abox_triple)] = weight\n",
    "\n",
    "for tbox_triple, weight in tbox.items():\n",
    "    tbox_facts[(\"T\", tbox_triple)] = weight\n",
    "\n",
    "rdf_facts = ZSetAddition().add(abox_facts, tbox_facts)\n",
    "rdf_fact_s = stream_introduction(rdf_facts, ZSetAddition())\n",
    "rdf_fact_s_h = StreamHandle(lambda: rdf_fact_s)\n",
    "\n",
    "datalog_reasoner = IncrementalDatalog(rdf_fact_s_h, program_s_h, None) "
   ]
  },
  {
   "cell_type": "code",
   "execution_count": null,
   "id": "76957893-4ddd-42d4-a8a8-82e348c2c335",
   "metadata": {},
   "outputs": [],
   "source": [
    "%time step_until_fixpoint(datalog_reasoner)"
   ]
  },
  {
   "cell_type": "code",
   "execution_count": null,
   "id": "9699c62f-e099-4a36-a2a8-009e8e277bd4",
   "metadata": {},
   "outputs": [],
   "source": [
    "# There's more triples inferred here because it includes the TBox as well\n",
    "len([ x for x in stream_elimination(datalog_reasoner.output()).inner.keys() ] )"
   ]
  },
  {
   "cell_type": "code",
   "execution_count": null,
   "id": "bb9f2f11-8545-4859-9eab-3fa8ab94d653",
   "metadata": {},
   "outputs": [],
   "source": []
  }
 ],
 "metadata": {
  "kernelspec": {
   "display_name": "Python 3 (ipykernel)",
   "language": "python",
   "name": "python3"
  },
  "language_info": {
   "codemirror_mode": {
    "name": "ipython",
    "version": 3
   },
   "file_extension": ".py",
   "mimetype": "text/x-python",
   "name": "python",
   "nbconvert_exporter": "python",
   "pygments_lexer": "ipython3",
   "version": "3.12.4"
  }
 },
 "nbformat": 4,
 "nbformat_minor": 5
}
