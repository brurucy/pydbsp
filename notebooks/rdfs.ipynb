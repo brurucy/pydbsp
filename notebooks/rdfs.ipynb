{
 "cells": [
  {
   "cell_type": "code",
   "execution_count": 1,
   "id": "430f9076-9721-45e3-9067-e6d8eed5648f",
   "metadata": {},
   "outputs": [],
   "source": [
    "from pydbsp.algorithms import rdfs\n",
    "from pydbsp.zset import ZSet\n",
    "from typing import cast\n",
    "\n",
    "def load_graph(file_path: str) -> rdfs.RDFGraph:\n",
    "    out = []\n",
    "\n",
    "    with open(file_path, mode=\"r\") as file:\n",
    "        lines = file.readlines()\n",
    "        out = {\n",
    "            edge: 1\n",
    "            for edge in map(\n",
    "                lambda line: tuple(map(lambda node: int(node), line.split()[0:3])),\n",
    "                lines,\n",
    "            )\n",
    "        }\n",
    "\n",
    "    return cast(rdfs.RDFGraph, ZSet(out))"
   ]
  },
  {
   "cell_type": "code",
   "execution_count": 2,
   "id": "73a8ee17-34c4-4cfe-89ff-b6226a259964",
   "metadata": {},
   "outputs": [],
   "source": [
    "tbox = load_graph(\"data/lubm1tbox.ntenc\")\n",
    "abox = load_graph(\"data/lubm1abox.ntenc\")"
   ]
  },
  {
   "cell_type": "code",
   "execution_count": 3,
   "id": "58c68275-f291-4ada-8b26-3b67a177a693",
   "metadata": {},
   "outputs": [],
   "source": [
    "from pydbsp.stream.functions.linear import stream_introduction\n",
    "from pydbsp.stream import StreamHandle\n",
    "from pydbsp.algorithms.rdfs import IncrementalRDFSMaterialization, RDFTuple\n",
    "from pydbsp.zset import ZSetAddition\n",
    "\n",
    "tbox_stream = stream_introduction(tbox, ZSetAddition[RDFTuple]())\n",
    "tbox_stream_h = StreamHandle(lambda: tbox_stream)\n",
    "abox_stream = stream_introduction(abox, ZSetAddition[RDFTuple]())\n",
    "abox_stream_h = StreamHandle(lambda: abox_stream)\n",
    "\n",
    "rdfs_reasoner = IncrementalRDFSMaterialization(tbox_stream_h, abox_stream_h, None)"
   ]
  },
  {
   "cell_type": "code",
   "execution_count": 4,
   "id": "6c495829-5b4c-48f0-9ac4-f7e90c732bab",
   "metadata": {},
   "outputs": [],
   "source": [
    "from pydbsp.stream import step_until_fixpoint"
   ]
  },
  {
   "cell_type": "code",
   "execution_count": 5,
   "id": "708e1d7c-9882-4282-a652-e55d786f6664",
   "metadata": {},
   "outputs": [
    {
     "name": "stdout",
     "output_type": "stream",
     "text": [
      "CPU times: user 616 ms, sys: 24.5 ms, total: 640 ms\n",
      "Wall time: 638 ms\n"
     ]
    }
   ],
   "source": [
    "%time step_until_fixpoint(rdfs_reasoner)"
   ]
  },
  {
   "cell_type": "code",
   "execution_count": 6,
   "id": "dd8522d3-dce4-4756-b0a9-ff9b41f65f90",
   "metadata": {},
   "outputs": [
    {
     "data": {
      "text/plain": [
       "126417"
      ]
     },
     "execution_count": 6,
     "metadata": {},
     "output_type": "execute_result"
    }
   ],
   "source": [
    "from pydbsp.stream.functions.linear import stream_elimination\n",
    "\n",
    "len(stream_elimination(rdfs_reasoner.output()).inner)"
   ]
  },
  {
   "cell_type": "code",
   "execution_count": 7,
   "id": "f0e2a6c3-d1e9-41a4-b47d-a7a9b6b9a685",
   "metadata": {},
   "outputs": [],
   "source": [
    "from pydbsp.algorithms.datalog import IncrementalDatalog, Variable, Rule, Program\n",
    "from pydbsp.algorithms.rdfs import SCO, SPO, TYPE, DOMAIN, RANGE\n",
    "\n",
    "sco_rec = Rule = (\n",
    "    (\"T\", (Variable(\"x\"), SCO, Variable(\"z\"))),\n",
    "    (\"T\", (Variable(\"x\"), SCO, Variable(\"y\"))),\n",
    "    (\"T\", (Variable(\"y\"), SCO, Variable(\"z\"))))\n",
    "spo_rec = Rule = (\n",
    "    (\"T\", (Variable(\"x\"), SPO, Variable(\"z\"))),\n",
    "    (\"T\", (Variable(\"x\"), SPO, Variable(\"y\"))),\n",
    "    (\"T\", (Variable(\"y\"), SPO, Variable(\"z\"))))\n",
    "prop_rec = (\n",
    "    (\"A\", (Variable(\"x\"), Variable(\"b\"), Variable(\"y\"))),\n",
    "    (\"T\", (Variable(\"a\"), SPO, Variable(\"b\"))),\n",
    "    (\"A\", (Variable(\"x\"), Variable(\"a\"), Variable(\"y\"))))\n",
    "domain_nonrec = (\n",
    "    (\"A\", (Variable(\"y\"), TYPE, Variable(\"x\"))),\n",
    "    (\"T\", (Variable(\"a\"), DOMAIN, Variable(\"x\"))),\n",
    "    (\"A\", (Variable(\"y\"), Variable(\"a\"), Variable(\"z\"))))\n",
    "range_nonrec = (\n",
    "    (\"A\", (Variable(\"z\"), TYPE, Variable(\"x\"))),\n",
    "    (\"T\", (Variable(\"a\"), RANGE, Variable(\"x\"))),\n",
    "    (\"A\", (Variable(\"y\"), Variable(\"a\"), Variable(\"z\"))))\n",
    "class_rec = (\n",
    "    (\"A\", (Variable(\"z\"), TYPE, Variable(\"y\"))),\n",
    "    (\"T\", (Variable(\"x\"), SCO, Variable(\"y\"))),\n",
    "    (\"A\", (Variable(\"z\"), TYPE, Variable(\"x\"))))\n",
    "program = Program({ sco_rec: 1, spo_rec: 1, prop_rec: 1, domain_nonrec: 1, range_nonrec: 1, class_rec: 1 })\n",
    "program_s = stream_introduction(program, ZSetAddition())\n",
    "program_s_h = StreamHandle(lambda: program_s)\n",
    "\n",
    "abox_facts = ZSet({})\n",
    "tbox_facts = ZSet({})\n",
    "\n",
    "for abox_triple, weight in abox.items():\n",
    "    abox_facts[(\"A\", abox_triple)] = weight\n",
    "\n",
    "for tbox_triple, weight in tbox.items():\n",
    "    tbox_facts[(\"T\", tbox_triple)] = weight\n",
    "\n",
    "rdf_facts = ZSetAddition().add(abox_facts, tbox_facts)\n",
    "rdf_fact_s = stream_introduction(rdf_facts, ZSetAddition())\n",
    "rdf_fact_s_h = StreamHandle(lambda: rdf_fact_s)\n",
    "\n",
    "datalog_reasoner = IncrementalDatalog(rdf_fact_s_h, program_s_h, None) "
   ]
  },
  {
   "cell_type": "code",
   "execution_count": 8,
   "id": "76957893-4ddd-42d4-a8a8-82e348c2c335",
   "metadata": {},
   "outputs": [
    {
     "name": "stdout",
     "output_type": "stream",
     "text": [
      "CPU times: user 25.4 s, sys: 112 ms, total: 25.5 s\n",
      "Wall time: 25.5 s\n"
     ]
    }
   ],
   "source": [
    "%time step_until_fixpoint(datalog_reasoner)"
   ]
  },
  {
   "cell_type": "code",
   "execution_count": 9,
   "id": "9699c62f-e099-4a36-a2a8-009e8e277bd4",
   "metadata": {},
   "outputs": [
    {
     "data": {
      "text/plain": [
       "126732"
      ]
     },
     "execution_count": 9,
     "metadata": {},
     "output_type": "execute_result"
    }
   ],
   "source": [
    "# There's more triples inferred here because it includes the TBox as well\n",
    "len([ x for x in stream_elimination(datalog_reasoner.output()).inner.keys() ] )"
   ]
  }
 ],
 "metadata": {
  "kernelspec": {
   "display_name": "Python 3 (ipykernel)",
   "language": "python",
   "name": "python3"
  },
  "language_info": {
   "codemirror_mode": {
    "name": "ipython",
    "version": 3
   },
   "file_extension": ".py",
   "mimetype": "text/x-python",
   "name": "python",
   "nbconvert_exporter": "python",
   "pygments_lexer": "ipython3",
   "version": "3.12.4"
  }
 },
 "nbformat": 4,
 "nbformat_minor": 5
}
