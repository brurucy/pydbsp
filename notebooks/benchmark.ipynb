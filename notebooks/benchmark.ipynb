{
 "cells": [
  {
   "cell_type": "code",
   "execution_count": 1,
   "id": "0faf769e-81f2-48bb-b0ab-417dd86340ef",
   "metadata": {},
   "outputs": [],
   "source": [
    "from typing import Tuple, cast\n",
    "from pydbsp.zset import ZSet\n",
    "\n",
    "Edge = Tuple[int, int]\n",
    "GraphZSet = ZSet[Edge]\n",
    "\n",
    "def load_graph(file_path: str) -> GraphZSet:\n",
    "    out = []\n",
    "\n",
    "    with open(file_path, mode=\"r\") as file:\n",
    "        lines = file.readlines()\n",
    "        out = {\n",
    "            edge: 1\n",
    "            for edge in map(\n",
    "                lambda line: tuple(map(lambda node: int(node), line.split()[0:2])),\n",
    "                lines,\n",
    "            )\n",
    "        }\n",
    "\n",
    "    return cast(GraphZSet, ZSet(out))"
   ]
  },
  {
   "cell_type": "code",
   "execution_count": 2,
   "id": "59891443-25a9-4c77-8dad-a91799ea7c73",
   "metadata": {},
   "outputs": [],
   "source": [
    "dense_graph_zset = load_graph(\"data/graph1000.txt\")\n",
    "sparse_graph_zset = load_graph(\"data/graph10000.txt\")"
   ]
  },
  {
   "cell_type": "code",
   "execution_count": 3,
   "id": "c5379046-141d-44c2-b0f4-fe0c4c1a6993",
   "metadata": {},
   "outputs": [],
   "source": [
    "from pydbsp.stream import Stream, StreamHandle\n",
    "from pydbsp.zset import ZSetAddition\n",
    "from pydbsp.lazy_zset import LazyZSet, LazyZSetAddition"
   ]
  },
  {
   "cell_type": "code",
   "execution_count": 4,
   "id": "ef8500ef-2c65-479e-a440-78e865af77a8",
   "metadata": {},
   "outputs": [],
   "source": [
    "dense_graph_stream = Stream(ZSetAddition())\n",
    "dense_graph_stream.send(dense_graph_zset)\n",
    "dense_graph_stream_handle = StreamHandle(lambda: dense_graph_stream)"
   ]
  },
  {
   "cell_type": "code",
   "execution_count": 5,
   "id": "8d49b934-48b7-4b89-afa3-0d9ef2e0c801",
   "metadata": {},
   "outputs": [],
   "source": [
    "sparse_graph_stream = Stream(ZSetAddition())\n",
    "sparse_graph_stream.send(sparse_graph_zset)\n",
    "sparse_graph_stream_handle = StreamHandle(lambda: sparse_graph_stream)"
   ]
  },
  {
   "cell_type": "code",
   "execution_count": 7,
   "id": "8d1ac1a8-37f6-4e20-9f3d-1d452ac7d6d7",
   "metadata": {},
   "outputs": [],
   "source": [
    "from pydbsp.algorithms.graph_reachability import IncrementalGraphReachability\n",
    "\n",
    "zset_dense_graph_reachability = IncrementalGraphReachability(dense_graph_stream_handle)\n",
    "zset_sparse_graph_reachability = IncrementalGraphReachability(sparse_graph_stream_handle)\n",
    "#lazy_zset_dense_graph_reachability = LazyIncrementalGraphReachability(lazy_dense_graph_stream_handle)"
   ]
  },
  {
   "cell_type": "code",
   "execution_count": 8,
   "id": "f6d0ae28-7605-4262-a7d9-cb58846303bf",
   "metadata": {},
   "outputs": [],
   "source": [
    "from pydbsp.stream import step_until_fixpoint\n",
    "from pydbsp.stream.functions.linear import stream_elimination"
   ]
  },
  {
   "cell_type": "code",
   "execution_count": 9,
   "id": "faee163f-4d1f-4d80-a497-92e63148df12",
   "metadata": {},
   "outputs": [
    {
     "name": "stdout",
     "output_type": "stream",
     "text": [
      "CPU times: user 1.41 s, sys: 33.1 ms, total: 1.44 s\n",
      "Wall time: 1.44 s\n"
     ]
    }
   ],
   "source": [
    "%time step_until_fixpoint(zset_dense_graph_reachability)"
   ]
  },
  {
   "cell_type": "code",
   "execution_count": 10,
   "id": "b8814ad0-417a-4223-b5f8-bad8c3d0a945",
   "metadata": {},
   "outputs": [
    {
     "data": {
      "text/plain": [
       "11532"
      ]
     },
     "execution_count": 10,
     "metadata": {},
     "output_type": "execute_result"
    }
   ],
   "source": [
    "len(stream_elimination(zset_dense_graph_reachability.flattened_output.output()).inner)"
   ]
  },
  {
   "cell_type": "code",
   "execution_count": 11,
   "id": "c8530085-4d97-4950-8e40-df83c1762098",
   "metadata": {},
   "outputs": [
    {
     "name": "stdout",
     "output_type": "stream",
     "text": [
      "CPU times: user 1min 15s, sys: 220 ms, total: 1min 16s\n",
      "Wall time: 1min 16s\n"
     ]
    }
   ],
   "source": [
    "%time step_until_fixpoint(zset_sparse_graph_reachability)"
   ]
  },
  {
   "cell_type": "code",
   "execution_count": null,
   "id": "8b75a2de-2fbd-4b95-8da2-f6fef2dc760b",
   "metadata": {},
   "outputs": [],
   "source": [
    "len(stream_elimination(zset_sparse_graph_reachability.output()).inner)"
   ]
  },
  {
   "cell_type": "code",
   "execution_count": null,
   "id": "49d3c563-9a66-4853-8835-e24908366a32",
   "metadata": {},
   "outputs": [],
   "source": []
  }
 ],
 "metadata": {
  "kernelspec": {
   "display_name": "Python 3 (ipykernel)",
   "language": "python",
   "name": "python3"
  },
  "language_info": {
   "codemirror_mode": {
    "name": "ipython",
    "version": 3
   },
   "file_extension": ".py",
   "mimetype": "text/x-python",
   "name": "python",
   "nbconvert_exporter": "python",
   "pygments_lexer": "ipython3",
   "version": "3.12.4"
  }
 },
 "nbformat": 4,
 "nbformat_minor": 5
}
